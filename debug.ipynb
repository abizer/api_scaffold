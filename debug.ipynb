{
 "cells": [
  {
   "cell_type": "code",
   "execution_count": 10,
   "metadata": {},
   "outputs": [
    {
     "name": "stdout",
     "output_type": "stream",
     "text": [
      "The autoreload extension is already loaded. To reload it, use:\n",
      "  %reload_ext autoreload\n",
      "Local session injected to DB\n",
      "ModeEnum.DEV\n"
     ]
    }
   ],
   "source": [
    "%load_ext autoreload \n",
    "%autoreload 2 \n",
    "%run scripts/crud.py\n",
    "\n",
    "import sqlalchemy as sa \n",
    "\n",
    "from app.mod.rbac.user.model import UserTable, KeyTable, User, Key\n",
    "from app.mod.rbac.role.model import RoleTable, ResourceTable, RoleResourceTable, Role \n",
    "from app.mod.rbac.ent.model import Organization, Project, Document, OrganizationTable, ProjectTable, DocumentTable, DocumentTable\n",
    "\n",
    "from app.mod.rbac.user import crud as user_crud \n",
    "from app.mod.rbac.role import crud as role_crud \n",
    "from app.mod.rbac.ent import crud as ent_crud \n",
    "\n",
    "from app.mod import crud\n",
    "\n",
    "from app.core.config import settings\n",
    "\n",
    "import logging\n",
    "logging.getLogger('sqlalchemy.engine').setLevel(logging.DEBUG)\n",
    "\n",
    "print(settings.MODE)"
   ]
  },
  {
   "cell_type": "code",
   "execution_count": 11,
   "metadata": {},
   "outputs": [],
   "source": [
    "await local_session.rollback()"
   ]
  },
  {
   "cell_type": "code",
   "execution_count": 7,
   "metadata": {},
   "outputs": [
    {
     "data": {
      "text/plain": [
       "UserCreate(email='abizer@abizer.me')"
      ]
     },
     "execution_count": 7,
     "metadata": {},
     "output_type": "execute_result"
    }
   ],
   "source": [
    "y = user_crud.UserCreate(email=\"abizer@abizer.me\")\n",
    "y\n"
   ]
  },
  {
   "cell_type": "code",
   "execution_count": 8,
   "metadata": {},
   "outputs": [],
   "source": [
    "u = UserTable.model_validate(y)"
   ]
  },
  {
   "cell_type": "code",
   "execution_count": 9,
   "metadata": {},
   "outputs": [],
   "source": [
    "local_session.add(u)"
   ]
  },
  {
   "cell_type": "code",
   "execution_count": 14,
   "metadata": {},
   "outputs": [],
   "source": [
    "await local_session.flush()"
   ]
  },
  {
   "cell_type": "code",
   "execution_count": 15,
   "metadata": {},
   "outputs": [],
   "source": [
    "await local_session.commit()"
   ]
  },
  {
   "cell_type": "code",
   "execution_count": 17,
   "metadata": {},
   "outputs": [
    {
     "ename": "InvalidRequestError",
     "evalue": "Could not refresh instance '<UserTable at 0x10dc51630>'",
     "output_type": "error",
     "traceback": [
      "\u001b[0;31m---------------------------------------------------------------------------\u001b[0m",
      "\u001b[0;31mInvalidRequestError\u001b[0m                       Traceback (most recent call last)",
      "Cell \u001b[0;32mIn[17], line 1\u001b[0m\n\u001b[0;32m----> 1\u001b[0m \u001b[38;5;28;01mawait\u001b[39;00m local_session\u001b[38;5;241m.\u001b[39mrefresh(u)\n",
      "File \u001b[0;32m~/repos/github/abizer/api_scaffold/.venv/lib/python3.12/site-packages/sqlalchemy/ext/asyncio/session.py:331\u001b[0m, in \u001b[0;36mAsyncSession.refresh\u001b[0;34m(self, instance, attribute_names, with_for_update)\u001b[0m\n\u001b[1;32m    311\u001b[0m \u001b[38;5;28;01masync\u001b[39;00m \u001b[38;5;28;01mdef\u001b[39;00m \u001b[38;5;21mrefresh\u001b[39m(\n\u001b[1;32m    312\u001b[0m     \u001b[38;5;28mself\u001b[39m,\n\u001b[1;32m    313\u001b[0m     instance: \u001b[38;5;28mobject\u001b[39m,\n\u001b[1;32m    314\u001b[0m     attribute_names: Optional[Iterable[\u001b[38;5;28mstr\u001b[39m]] \u001b[38;5;241m=\u001b[39m \u001b[38;5;28;01mNone\u001b[39;00m,\n\u001b[1;32m    315\u001b[0m     with_for_update: ForUpdateParameter \u001b[38;5;241m=\u001b[39m \u001b[38;5;28;01mNone\u001b[39;00m,\n\u001b[1;32m    316\u001b[0m ) \u001b[38;5;241m-\u001b[39m\u001b[38;5;241m>\u001b[39m \u001b[38;5;28;01mNone\u001b[39;00m:\n\u001b[1;32m    317\u001b[0m \u001b[38;5;250m    \u001b[39m\u001b[38;5;124;03m\"\"\"Expire and refresh the attributes on the given instance.\u001b[39;00m\n\u001b[1;32m    318\u001b[0m \n\u001b[1;32m    319\u001b[0m \u001b[38;5;124;03m    A query will be issued to the database and all attributes will be\u001b[39;00m\n\u001b[0;32m   (...)\u001b[0m\n\u001b[1;32m    328\u001b[0m \n\u001b[1;32m    329\u001b[0m \u001b[38;5;124;03m    \"\"\"\u001b[39;00m\n\u001b[0;32m--> 331\u001b[0m     \u001b[38;5;28;01mawait\u001b[39;00m greenlet_spawn(\n\u001b[1;32m    332\u001b[0m         \u001b[38;5;28mself\u001b[39m\u001b[38;5;241m.\u001b[39msync_session\u001b[38;5;241m.\u001b[39mrefresh,\n\u001b[1;32m    333\u001b[0m         instance,\n\u001b[1;32m    334\u001b[0m         attribute_names\u001b[38;5;241m=\u001b[39mattribute_names,\n\u001b[1;32m    335\u001b[0m         with_for_update\u001b[38;5;241m=\u001b[39mwith_for_update,\n\u001b[1;32m    336\u001b[0m     )\n",
      "File \u001b[0;32m~/repos/github/abizer/api_scaffold/.venv/lib/python3.12/site-packages/sqlalchemy/util/_concurrency_py3k.py:203\u001b[0m, in \u001b[0;36mgreenlet_spawn\u001b[0;34m(fn, _require_await, *args, **kwargs)\u001b[0m\n\u001b[1;32m    201\u001b[0m         result \u001b[38;5;241m=\u001b[39m context\u001b[38;5;241m.\u001b[39mthrow(\u001b[38;5;241m*\u001b[39msys\u001b[38;5;241m.\u001b[39mexc_info())\n\u001b[1;32m    202\u001b[0m     \u001b[38;5;28;01melse\u001b[39;00m:\n\u001b[0;32m--> 203\u001b[0m         result \u001b[38;5;241m=\u001b[39m \u001b[43mcontext\u001b[49m\u001b[38;5;241;43m.\u001b[39;49m\u001b[43mswitch\u001b[49m\u001b[43m(\u001b[49m\u001b[43mvalue\u001b[49m\u001b[43m)\u001b[49m\n\u001b[1;32m    205\u001b[0m \u001b[38;5;28;01mif\u001b[39;00m _require_await \u001b[38;5;129;01mand\u001b[39;00m \u001b[38;5;129;01mnot\u001b[39;00m switch_occurred:\n\u001b[1;32m    206\u001b[0m     \u001b[38;5;28;01mraise\u001b[39;00m exc\u001b[38;5;241m.\u001b[39mAwaitRequired(\n\u001b[1;32m    207\u001b[0m         \u001b[38;5;124m\"\u001b[39m\u001b[38;5;124mThe current operation required an async execution but none was \u001b[39m\u001b[38;5;124m\"\u001b[39m\n\u001b[1;32m    208\u001b[0m         \u001b[38;5;124m\"\u001b[39m\u001b[38;5;124mdetected. This will usually happen when using a non compatible \u001b[39m\u001b[38;5;124m\"\u001b[39m\n\u001b[1;32m    209\u001b[0m         \u001b[38;5;124m\"\u001b[39m\u001b[38;5;124mDBAPI driver. Please ensure that an async DBAPI is used.\u001b[39m\u001b[38;5;124m\"\u001b[39m\n\u001b[1;32m    210\u001b[0m     )\n",
      "File \u001b[0;32m~/repos/github/abizer/api_scaffold/.venv/lib/python3.12/site-packages/sqlalchemy/orm/session.py:3169\u001b[0m, in \u001b[0;36mSession.refresh\u001b[0;34m(self, instance, attribute_names, with_for_update)\u001b[0m\n\u001b[1;32m   3151\u001b[0m stmt: Select[Any] \u001b[38;5;241m=\u001b[39m sql\u001b[38;5;241m.\u001b[39mselect(object_mapper(instance))\n\u001b[1;32m   3152\u001b[0m \u001b[38;5;28;01mif\u001b[39;00m (\n\u001b[1;32m   3153\u001b[0m     loading\u001b[38;5;241m.\u001b[39mload_on_ident(\n\u001b[1;32m   3154\u001b[0m         \u001b[38;5;28mself\u001b[39m,\n\u001b[0;32m   (...)\u001b[0m\n\u001b[1;32m   3167\u001b[0m     \u001b[38;5;129;01mis\u001b[39;00m \u001b[38;5;28;01mNone\u001b[39;00m\n\u001b[1;32m   3168\u001b[0m ):\n\u001b[0;32m-> 3169\u001b[0m     \u001b[38;5;28;01mraise\u001b[39;00m sa_exc\u001b[38;5;241m.\u001b[39mInvalidRequestError(\n\u001b[1;32m   3170\u001b[0m         \u001b[38;5;124m\"\u001b[39m\u001b[38;5;124mCould not refresh instance \u001b[39m\u001b[38;5;124m'\u001b[39m\u001b[38;5;132;01m%s\u001b[39;00m\u001b[38;5;124m'\u001b[39m\u001b[38;5;124m\"\u001b[39m \u001b[38;5;241m%\u001b[39m instance_str(instance)\n\u001b[1;32m   3171\u001b[0m     )\n",
      "\u001b[0;31mInvalidRequestError\u001b[0m: Could not refresh instance '<UserTable at 0x10dc51630>'"
     ]
    }
   ],
   "source": [
    "await local_session.refresh(u)"
   ]
  },
  {
   "cell_type": "code",
   "execution_count": 8,
   "metadata": {},
   "outputs": [
    {
     "ename": "InvalidRequestError",
     "evalue": "Could not refresh instance '<UserTable at 0x11806b840>'",
     "output_type": "error",
     "traceback": [
      "\u001b[0;31m---------------------------------------------------------------------------\u001b[0m",
      "\u001b[0;31mInvalidRequestError\u001b[0m                       Traceback (most recent call last)",
      "Cell \u001b[0;32mIn[8], line 1\u001b[0m\n\u001b[0;32m----> 1\u001b[0m me \u001b[38;5;241m=\u001b[39m \u001b[38;5;28;01mawait\u001b[39;00m crud\u001b[38;5;241m.\u001b[39mrbac_user\u001b[38;5;241m.\u001b[39mcreate_from_email(email\u001b[38;5;241m=\u001b[39m\u001b[38;5;124m\"\u001b[39m\u001b[38;5;124mabizer@abizer.me\u001b[39m\u001b[38;5;124m\"\u001b[39m)\n\u001b[1;32m      2\u001b[0m me\n",
      "File \u001b[0;32m~/repos/github/abizer/api_scaffold/app/mod/rbac/user/crud.py:68\u001b[0m, in \u001b[0;36mCRUDUser.create_from_email\u001b[0;34m(self, email, db_session)\u001b[0m\n\u001b[1;32m     65\u001b[0m     \u001b[38;5;28;01mraise\u001b[39;00m e\n\u001b[1;32m     67\u001b[0m \u001b[38;5;66;03m# this can fail too\u001b[39;00m\n\u001b[0;32m---> 68\u001b[0m \u001b[38;5;28;01mawait\u001b[39;00m db_session\u001b[38;5;241m.\u001b[39mrefresh(db_user)\n\u001b[1;32m     69\u001b[0m \u001b[38;5;28;01mreturn\u001b[39;00m db_user\n",
      "File \u001b[0;32m~/repos/github/abizer/api_scaffold/.venv/lib/python3.12/site-packages/sqlalchemy/ext/asyncio/session.py:331\u001b[0m, in \u001b[0;36mAsyncSession.refresh\u001b[0;34m(self, instance, attribute_names, with_for_update)\u001b[0m\n\u001b[1;32m    311\u001b[0m \u001b[38;5;28;01masync\u001b[39;00m \u001b[38;5;28;01mdef\u001b[39;00m \u001b[38;5;21mrefresh\u001b[39m(\n\u001b[1;32m    312\u001b[0m     \u001b[38;5;28mself\u001b[39m,\n\u001b[1;32m    313\u001b[0m     instance: \u001b[38;5;28mobject\u001b[39m,\n\u001b[1;32m    314\u001b[0m     attribute_names: Optional[Iterable[\u001b[38;5;28mstr\u001b[39m]] \u001b[38;5;241m=\u001b[39m \u001b[38;5;28;01mNone\u001b[39;00m,\n\u001b[1;32m    315\u001b[0m     with_for_update: ForUpdateParameter \u001b[38;5;241m=\u001b[39m \u001b[38;5;28;01mNone\u001b[39;00m,\n\u001b[1;32m    316\u001b[0m ) \u001b[38;5;241m-\u001b[39m\u001b[38;5;241m>\u001b[39m \u001b[38;5;28;01mNone\u001b[39;00m:\n\u001b[1;32m    317\u001b[0m \u001b[38;5;250m    \u001b[39m\u001b[38;5;124;03m\"\"\"Expire and refresh the attributes on the given instance.\u001b[39;00m\n\u001b[1;32m    318\u001b[0m \n\u001b[1;32m    319\u001b[0m \u001b[38;5;124;03m    A query will be issued to the database and all attributes will be\u001b[39;00m\n\u001b[0;32m   (...)\u001b[0m\n\u001b[1;32m    328\u001b[0m \n\u001b[1;32m    329\u001b[0m \u001b[38;5;124;03m    \"\"\"\u001b[39;00m\n\u001b[0;32m--> 331\u001b[0m     \u001b[38;5;28;01mawait\u001b[39;00m greenlet_spawn(\n\u001b[1;32m    332\u001b[0m         \u001b[38;5;28mself\u001b[39m\u001b[38;5;241m.\u001b[39msync_session\u001b[38;5;241m.\u001b[39mrefresh,\n\u001b[1;32m    333\u001b[0m         instance,\n\u001b[1;32m    334\u001b[0m         attribute_names\u001b[38;5;241m=\u001b[39mattribute_names,\n\u001b[1;32m    335\u001b[0m         with_for_update\u001b[38;5;241m=\u001b[39mwith_for_update,\n\u001b[1;32m    336\u001b[0m     )\n",
      "File \u001b[0;32m~/repos/github/abizer/api_scaffold/.venv/lib/python3.12/site-packages/sqlalchemy/util/_concurrency_py3k.py:203\u001b[0m, in \u001b[0;36mgreenlet_spawn\u001b[0;34m(fn, _require_await, *args, **kwargs)\u001b[0m\n\u001b[1;32m    201\u001b[0m         result \u001b[38;5;241m=\u001b[39m context\u001b[38;5;241m.\u001b[39mthrow(\u001b[38;5;241m*\u001b[39msys\u001b[38;5;241m.\u001b[39mexc_info())\n\u001b[1;32m    202\u001b[0m     \u001b[38;5;28;01melse\u001b[39;00m:\n\u001b[0;32m--> 203\u001b[0m         result \u001b[38;5;241m=\u001b[39m \u001b[43mcontext\u001b[49m\u001b[38;5;241;43m.\u001b[39;49m\u001b[43mswitch\u001b[49m\u001b[43m(\u001b[49m\u001b[43mvalue\u001b[49m\u001b[43m)\u001b[49m\n\u001b[1;32m    205\u001b[0m \u001b[38;5;28;01mif\u001b[39;00m _require_await \u001b[38;5;129;01mand\u001b[39;00m \u001b[38;5;129;01mnot\u001b[39;00m switch_occurred:\n\u001b[1;32m    206\u001b[0m     \u001b[38;5;28;01mraise\u001b[39;00m exc\u001b[38;5;241m.\u001b[39mAwaitRequired(\n\u001b[1;32m    207\u001b[0m         \u001b[38;5;124m\"\u001b[39m\u001b[38;5;124mThe current operation required an async execution but none was \u001b[39m\u001b[38;5;124m\"\u001b[39m\n\u001b[1;32m    208\u001b[0m         \u001b[38;5;124m\"\u001b[39m\u001b[38;5;124mdetected. This will usually happen when using a non compatible \u001b[39m\u001b[38;5;124m\"\u001b[39m\n\u001b[1;32m    209\u001b[0m         \u001b[38;5;124m\"\u001b[39m\u001b[38;5;124mDBAPI driver. Please ensure that an async DBAPI is used.\u001b[39m\u001b[38;5;124m\"\u001b[39m\n\u001b[1;32m    210\u001b[0m     )\n",
      "File \u001b[0;32m~/repos/github/abizer/api_scaffold/.venv/lib/python3.12/site-packages/sqlalchemy/orm/session.py:3169\u001b[0m, in \u001b[0;36mSession.refresh\u001b[0;34m(self, instance, attribute_names, with_for_update)\u001b[0m\n\u001b[1;32m   3151\u001b[0m stmt: Select[Any] \u001b[38;5;241m=\u001b[39m sql\u001b[38;5;241m.\u001b[39mselect(object_mapper(instance))\n\u001b[1;32m   3152\u001b[0m \u001b[38;5;28;01mif\u001b[39;00m (\n\u001b[1;32m   3153\u001b[0m     loading\u001b[38;5;241m.\u001b[39mload_on_ident(\n\u001b[1;32m   3154\u001b[0m         \u001b[38;5;28mself\u001b[39m,\n\u001b[0;32m   (...)\u001b[0m\n\u001b[1;32m   3167\u001b[0m     \u001b[38;5;129;01mis\u001b[39;00m \u001b[38;5;28;01mNone\u001b[39;00m\n\u001b[1;32m   3168\u001b[0m ):\n\u001b[0;32m-> 3169\u001b[0m     \u001b[38;5;28;01mraise\u001b[39;00m sa_exc\u001b[38;5;241m.\u001b[39mInvalidRequestError(\n\u001b[1;32m   3170\u001b[0m         \u001b[38;5;124m\"\u001b[39m\u001b[38;5;124mCould not refresh instance \u001b[39m\u001b[38;5;124m'\u001b[39m\u001b[38;5;132;01m%s\u001b[39;00m\u001b[38;5;124m'\u001b[39m\u001b[38;5;124m\"\u001b[39m \u001b[38;5;241m%\u001b[39m instance_str(instance)\n\u001b[1;32m   3171\u001b[0m     )\n",
      "\u001b[0;31mInvalidRequestError\u001b[0m: Could not refresh instance '<UserTable at 0x11806b840>'"
     ]
    }
   ],
   "source": [
    "me = await crud.rbac_user.create_from_email(email=\"abizer@abizer.me\")\n",
    "me"
   ]
  }
 ],
 "metadata": {
  "kernelspec": {
   "display_name": ".venv",
   "language": "python",
   "name": "python3"
  },
  "language_info": {
   "codemirror_mode": {
    "name": "ipython",
    "version": 3
   },
   "file_extension": ".py",
   "mimetype": "text/x-python",
   "name": "python",
   "nbconvert_exporter": "python",
   "pygments_lexer": "ipython3",
   "version": "3.12.4"
  }
 },
 "nbformat": 4,
 "nbformat_minor": 2
}
